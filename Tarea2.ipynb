{
 "cells": [
  {
   "attachments": {},
   "cell_type": "markdown",
   "metadata": {},
   "source": [
    "<center> <h2> LABORATORIO 1 </h2> </center>\n",
    "\n",
    "### Ejercicio 1"
   ]
  },
  {
   "cell_type": "code",
   "execution_count": 4,
   "metadata": {},
   "outputs": [
    {
     "name": "stdout",
     "output_type": "stream",
     "text": [
      "Horas: 0, Minutos: 45, Segundos: 43\n",
      "Horas: 1, Minutos: 37, Segundos: 51\n",
      "Error: valor debe ser numérico.\n"
     ]
    }
   ],
   "source": [
    "def covert_segundos_a_hms(segundos):\n",
    "    try:\n",
    "        horas = segundos // 3600\n",
    "        minutos = (segundos % 3600) // 60\n",
    "        segundos = (segundos % 3600) % 60\n",
    "        print(f\"Horas: {horas}, Minutos: {minutos}, Segundos: {segundos}\")\n",
    "    except TypeError:\n",
    "        print(\"Error: valor debe ser numérico.\")\n",
    "    except ValueError:\n",
    "        print(\"Error: valor debe ser entero.\")\n",
    "\n",
    "covert_segundos_a_hms(2743)\n",
    "covert_segundos_a_hms(5871)\n",
    "covert_segundos_a_hms(\"texto\")"
   ]
  },
  {
   "attachments": {},
   "cell_type": "markdown",
   "metadata": {},
   "source": [
    "### Ejercicio 2"
   ]
  },
  {
   "cell_type": "code",
   "execution_count": 8,
   "metadata": {},
   "outputs": [
    {
     "name": "stdout",
     "output_type": "stream",
     "text": [
      "$\n",
      "$$\n",
      "$$$\n",
      "$$$$\n",
      "$$$$$\n",
      "\n",
      "$$$$$\n",
      "$$$$\n",
      "$$$\n",
      "$$\n",
      "$\n",
      "\n",
      "    $\n",
      "   $$\n",
      "  $$$\n",
      " $$$$\n",
      "$$$$$\n",
      "\n",
      "$$$$$\n",
      " $$$$\n",
      "  $$$\n",
      "   $$\n",
      "    $\n"
     ]
    }
   ],
   "source": [
    "def patron_triangular(numero, caracter):\n",
    "    if numero < 1 or numero > 20:\n",
    "        print(\"El número debe estar entre 1 y 20.\")\n",
    "    else:\n",
    "        for i in range(1, numero+1):\n",
    "            print(caracter * i)\n",
    "        print()\n",
    "        for i in range(numero, 0, -1):\n",
    "            print(caracter * i)\n",
    "        print()\n",
    "        for i in range(1, numero+1):\n",
    "            print(\" \" * (numero-i) + caracter * i)\n",
    "        print()\n",
    "        for i in range(numero, 0, -1):\n",
    "            print(\" \" * (numero-i) + caracter * i)\n",
    "\n",
    "patron_triangular(5, '$')"
   ]
  },
  {
   "attachments": {},
   "cell_type": "markdown",
   "metadata": {},
   "source": [
    "### Ejercicio 3"
   ]
  },
  {
   "cell_type": "code",
   "execution_count": 1,
   "metadata": {},
   "outputs": [
    {
     "name": "stdout",
     "output_type": "stream",
     "text": [
      "Edad: 34 años, 8 meses, 1 días\n"
     ]
    }
   ],
   "source": [
    "import datetime\n",
    "\n",
    "def edad(dia, mes, año):\n",
    "    fecha_nacimiento = datetime.date(año, mes, dia)\n",
    "    hoy = datetime.date.today()\n",
    "    edad = hoy - fecha_nacimiento\n",
    "    años = edad.days // 365\n",
    "    meses = (edad.days % 365) // 30\n",
    "    dias = (edad.days % 365) % 30\n",
    "    print(f\"Edad: {años} años, {meses} meses, {dias} días\")\n",
    "\n",
    "dia = int(input(\"Ingrese el día de nacimiento: \"))\n",
    "mes = int(input(\"Ingrese el mes de nacimiento: \"))\n",
    "año = int(input(\"Ingrese el año de nacimiento: \"))\n",
    "\n",
    "edad(dia, mes, año)"
   ]
  },
  {
   "attachments": {},
   "cell_type": "markdown",
   "metadata": {},
   "source": [
    "### Ejercicio 4"
   ]
  },
  {
   "cell_type": "code",
   "execution_count": 22,
   "metadata": {},
   "outputs": [
    {
     "name": "stdout",
     "output_type": "stream",
     "text": [
      "1020405070\n"
     ]
    }
   ],
   "source": [
    "tupla = 10,20,40,50,70\n",
    "def tupla_a_string(tupla):\n",
    "    resultado = ''.join(str(elemento) for elemento in tupla)\n",
    "    return resultado\n",
    "\n",
    "resultado = tupla_a_string(tupla)\n",
    "print(resultado)\n",
    "\n"
   ]
  },
  {
   "attachments": {},
   "cell_type": "markdown",
   "metadata": {},
   "source": [
    "### Ejercicio 5"
   ]
  },
  {
   "cell_type": "code",
   "execution_count": 23,
   "metadata": {},
   "outputs": [
    {
     "name": "stdout",
     "output_type": "stream",
     "text": [
      "[('X',), ('a', 'b'), ('a', 'b', 'c'), 'd']\n"
     ]
    }
   ],
   "source": [
    "lista_tuplas = [(), (), ('X',), ('a', 'b'), ('a', 'b', 'c'), ('d')]\n",
    "\n",
    "def eliminar_tuplas_vacias(lista_tuplas):\n",
    "    lista_sinvacios = list(filter(lambda tupla: tupla != (), lista_tuplas))\n",
    "    return lista_sinvacios\n",
    "\n",
    "resultado = eliminar_tuplas_vacias(lista_tuplas)\n",
    "print(resultado)\n"
   ]
  },
  {
   "attachments": {},
   "cell_type": "markdown",
   "metadata": {},
   "source": [
    "### Ejercicio 6"
   ]
  },
  {
   "cell_type": "code",
   "execution_count": 24,
   "metadata": {},
   "outputs": [
    {
     "name": "stdout",
     "output_type": "stream",
     "text": [
      "(10.5, 44.0, 58.0)\n"
     ]
    }
   ],
   "source": [
    "lista_tuplas = ((10, 10, 10, 12), (30, 45, 56, 45), (81, 80, 39, 32))\n",
    "\n",
    "def promedio_tuplas(lista_tuplas):\n",
    "    promedios = ()\n",
    "    for tupla in lista_tuplas:\n",
    "        promedio = sum(tupla) / len(tupla)\n",
    "        promedios += (promedio,)\n",
    "    return promedios\n",
    "\n",
    "promedios = promedio_tuplas(lista_tuplas)\n",
    "print(promedios)"
   ]
  },
  {
   "attachments": {},
   "cell_type": "markdown",
   "metadata": {},
   "source": [
    "### Ejercicio 7"
   ]
  },
  {
   "cell_type": "code",
   "execution_count": 28,
   "metadata": {},
   "outputs": [
    {
     "name": "stdout",
     "output_type": "stream",
     "text": [
      "¿Qué acción desea realizar?\n",
      "1. Añadir nueva factura\n",
      "2. Pagar factura existente\n",
      "3. Terminar\n",
      "Factura añadida correctamente:\n",
      "{'1234': 35.5}\n",
      "Cantidad cobrada: 35.5\n",
      "Cantidad pendiente de cobro: 35.5\n",
      "¿Qué acción desea realizar?\n",
      "1. Añadir nueva factura\n",
      "2. Pagar factura existente\n",
      "3. Terminar\n",
      "Hasta luego.\n"
     ]
    }
   ],
   "source": [
    "facturas = {}\n",
    "cobrado = 0\n",
    "\n",
    "while True:\n",
    "    print(\"¿Qué acción desea realizar?\")\n",
    "    print(\"1. Añadir nueva factura\")\n",
    "    print(\"2. Pagar factura existente\")\n",
    "    print(\"3. Terminar\")\n",
    "    accion = input(\"Ingrese el número correspondiente a la acción: \")\n",
    "    \n",
    "    if accion == \"1\":\n",
    "        num_factura = input(\"Ingrese el número de la factura (debe ser de 4 dígitos): \")\n",
    "        costo_factura = float(input(\"Ingrese el costo de la factura: \"))\n",
    "        facturas[num_factura] = costo_factura\n",
    "        print(\"Factura añadida correctamente:\")\n",
    "        print(facturas)\n",
    "        cobrado += costo_factura\n",
    "    elif accion == \"2\":\n",
    "        num_factura = input(\"Ingrese el número de la factura a pagar: \")\n",
    "        if num_factura in facturas:\n",
    "            costo_factura = facturas.pop(num_factura)\n",
    "            print(\"La factura ha sido pagada:\")\n",
    "            print(facturas)\n",
    "            cobrado += costo_factura\n",
    "        else:\n",
    "            print(\"La factura no existe.\")\n",
    "    elif accion == \"3\":\n",
    "        print(\"fin acción.\")\n",
    "        break\n",
    "    else:\n",
    "        print(\"Acción no válida.\")\n",
    "    \n",
    "    pendiente = sum(facturas.values())\n",
    "    print(f\"Cantidad cobrada: {cobrado}\")\n",
    "    print(f\"Cantidad pendiente de cobro: {pendiente}\")\n",
    "\n",
    "\n",
    "    pendiente"
   ]
  },
  {
   "cell_type": "code",
   "execution_count": 29,
   "metadata": {},
   "outputs": [
    {
     "name": "stdout",
     "output_type": "stream",
     "text": [
      "Cantidad cobrada: 35.5\n",
      "Cantidad pendiente de cobro: 35.5\n"
     ]
    }
   ],
   "source": [
    "pendiente = sum(facturas.values())\n",
    "    print(f\"Cantidad cobrada: {cobrado}\")\n",
    "    print(f\"Cantidad pendiente de cobro: {pendiente}\")\n"
   ]
  },
  {
   "attachments": {},
   "cell_type": "markdown",
   "metadata": {},
   "source": [
    "### Ejercicio 8"
   ]
  },
  {
   "cell_type": "code",
   "execution_count": 36,
   "metadata": {},
   "outputs": [
    {
     "name": "stdout",
     "output_type": "stream",
     "text": [
      "{'T13', 'P02', 'C09', 'T06', 'C06', 'C12', 'P08', 'E02', 'E13', 'E01', 'T03', 'T08', 'C03', 'P04', 'E09', 'T01', 'C02', 'P03', 'T05', 'P13', 'E12', 'C13', 'T09', 'E05', 'C01', 'P06', 'T02', 'E04', 'C05', 'P10', 'C04', 'P05', 'C10', 'E08', 'T12', 'E03', 'P09', 'T07', 'C07', 'T10', 'T04', 'C08', 'C11', 'T11', 'P01', 'P07', 'E07', 'P11', 'E10', 'E11', 'P12', 'E06'}\n"
     ]
    }
   ],
   "source": [
    "def crear_baraja():\n",
    "    baraja = set()\n",
    "    tipos = ['T', 'C', 'P', 'E']\n",
    "    numeros = [str(i).zfill(2) for i in range(1, 14)]\n",
    "    for tipo in tipos:\n",
    "        for numero in numeros:\n",
    "            carta = tipo + numero\n",
    "            baraja.add(carta)\n",
    "    return baraja\n",
    "\n",
    "cartas_poker = crear_baraja()\n",
    "print(cartas_poker)"
   ]
  },
  {
   "cell_type": "code",
   "execution_count": 37,
   "metadata": {},
   "outputs": [
    {
     "name": "stdout",
     "output_type": "stream",
     "text": [
      "{'T13', 'P02', 'C09', 'E02', 'C12', 'P08', 'C06', 'E13', 'T06', 'E01', 'T03', 'T08', 'C03', 'P04', 'T01', 'P03', 'T05', 'E12', 'C13', 'T09', 'E05', 'C01', 'P06', 'T02', 'E04', 'C05', 'P10', 'C04', 'C10', 'E08', 'T12', 'E03', 'P09', 'C11', 'C08', 'T11', 'P07', 'P01', 'E10', 'P11', 'E11', 'P12', 'E06'}\n",
      "{'C11', 'T04', 'C05', 'C04', 'P08', 'T05', 'C10', 'T09', 'E05', 'C01', 'T07', 'C07'}\n"
     ]
    },
    {
     "name": "stderr",
     "output_type": "stream",
     "text": [
      "C:\\Users\\PC2\\AppData\\Local\\Temp\\ipykernel_17008\\264455733.py:6: DeprecationWarning: Sampling from a set deprecated\n",
      "since Python 3.9 and will be removed in a subsequent version.\n",
      "  conjunto1 = set(random.sample(cartas_poker, n1))\n",
      "C:\\Users\\PC2\\AppData\\Local\\Temp\\ipykernel_17008\\264455733.py:7: DeprecationWarning: Sampling from a set deprecated\n",
      "since Python 3.9 and will be removed in a subsequent version.\n",
      "  conjunto2 = set(random.sample(cartas_poker, n2))\n"
     ]
    }
   ],
   "source": [
    "import random\n",
    "\n",
    "def crear_conjuntos(cartas_poker):\n",
    "    n1 = random.randint(1, len(cartas_poker))\n",
    "    n2 = random.randint(1, len(cartas_poker))\n",
    "    conjunto1 = set(random.sample(cartas_poker, n1))\n",
    "    conjunto2 = set(random.sample(cartas_poker, n2))\n",
    "    return conjunto1, conjunto2\n",
    "\n",
    "conjunto1, conjunto2 = crear_conjuntos(cartas_poker)\n",
    "print(conjunto1)\n",
    "print(conjunto2)"
   ]
  },
  {
   "cell_type": "code",
   "execution_count": 38,
   "metadata": {},
   "outputs": [
    {
     "name": "stdout",
     "output_type": "stream",
     "text": [
      "P(conjunto1): 0.8269230769230769\n",
      "P(conjunto2|conjunto1): 0.20930232558139536\n",
      "P(conjunto2): 0.23076923076923078\n",
      "Los eventos no son independientes\n"
     ]
    }
   ],
   "source": [
    "p_conjunto1 = len(conjunto1) / len(cartas_poker)\n",
    "p_conjunto2_dado_conjunto1 = len(conjunto1 & conjunto2) / len(conjunto1)\n",
    "p_conjunto2 = len(conjunto2) / len(cartas_poker)\n",
    "print('P(conjunto1):', p_conjunto1)\n",
    "print('P(conjunto2|conjunto1):', p_conjunto2_dado_conjunto1)\n",
    "print('P(conjunto2):', p_conjunto2)\n",
    "if abs(p_conjunto2_dado_conjunto1 - p_conjunto2) < 1e-6:\n",
    "    print('Los eventos son independientes')\n",
    "else:\n",
    "    print('Los eventos no son independientes')"
   ]
  }
 ],
 "metadata": {
  "kernelspec": {
   "display_name": "base",
   "language": "python",
   "name": "python3"
  },
  "language_info": {
   "codemirror_mode": {
    "name": "ipython",
    "version": 3
   },
   "file_extension": ".py",
   "mimetype": "text/x-python",
   "name": "python",
   "nbconvert_exporter": "python",
   "pygments_lexer": "ipython3",
   "version": "3.9.13"
  },
  "orig_nbformat": 4
 },
 "nbformat": 4,
 "nbformat_minor": 2
}
